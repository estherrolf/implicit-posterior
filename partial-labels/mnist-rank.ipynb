{
 "cells": [
  {
   "cell_type": "code",
   "execution_count": 2,
   "metadata": {},
   "outputs": [],
   "source": [
    "import torch as T\n",
    "import torchvision\n",
    "import numpy as np\n",
    "from matplotlib import pyplot as pt\n",
    "\n",
    "device = T.device('cuda:0')"
   ]
  },
  {
   "cell_type": "code",
   "execution_count": 4,
   "metadata": {},
   "outputs": [],
   "source": [
    "bs = 256\n",
    "\n",
    "mnist_train = torchvision.datasets.MNIST(train=True, download=True, transform=torchvision.transforms.ToTensor())\n",
    "loader_train = T.utils.data.DataLoader(mnist_train, bs, shuffle=False)"
   ]
  },
  {
   "cell_type": "code",
   "execution_count": 29,
   "metadata": {},
   "outputs": [
    {
     "name": "stdout",
     "output_type": "stream",
     "text": [
      "33194\n"
     ]
    }
   ],
   "source": [
    "class CNN(T.nn.Module):\n",
    "    def __init__(self):\n",
    "        super(CNN, self).__init__()\n",
    "        self.conv1 = T.nn.Conv2d(1, 32, 3, 1, 1)\n",
    "        self.conv2 = T.nn.Conv2d(32, 32, 3, 2, 1)\n",
    "        self.conv3 = T.nn.Conv2d(32, 32, 3, 2, 1)\n",
    "        self.conv4 = T.nn.Conv2d(32, 32, 3, 2, 1)\n",
    "        self.fc = T.nn.Linear(32*4*4, 10)\n",
    "    def forward(self, x):\n",
    "        x = self.conv1(x).relu()\n",
    "        x = self.conv2(x).relu()\n",
    "        x = self.conv3(x).relu()\n",
    "        x = self.conv4(x).relu().view(-1,32*4*4)\n",
    "        x = self.fc(x)\n",
    "        return x\n",
    "\n",
    "model = CNN().to(device)\n",
    "print(sum(a.numel() for a in model.parameters()))\n",
    "\n",
    "opt = T.optim.Adam(model.parameters(), 0.001)"
   ]
  },
  {
   "cell_type": "code",
   "execution_count": 30,
   "metadata": {},
   "outputs": [
    {
     "name": "stdout",
     "output_type": "stream",
     "text": [
      "Epoch 0:  RQ loss 0.09345662593841553 NLL 1.746980909083752 Accuracy 0.3404255319148936 \n",
      "Epoch 1:  RQ loss 0.05467299654128704 NLL 1.0099436194338698 Accuracy 0.6313386526513607 \n",
      "Epoch 2:  RQ loss 0.03720697896911743 NLL 0.33254010295297237 Accuracy 0.9112256207364671 \n",
      "Epoch 3:  RQ loss 0.024569295568669096 NLL 0.16597839222943528 Accuracy 0.95346852845334 \n",
      "Epoch 4:  RQ loss 0.01662719966249263 NLL 0.138970495292798 Accuracy 0.9614971188788718 \n",
      "Epoch 5:  RQ loss 0.012257143117963 NLL 0.1403332485520142 Accuracy 0.9638741135597229 \n",
      "Epoch 6:  RQ loss 0.00980620322392342 NLL 0.1429668214766586 Accuracy 0.9650820037151905 \n",
      "Epoch 7:  RQ loss 0.009153535748098759 NLL 0.1447638308074563 Accuracy 0.967032358240574 \n",
      "Epoch 8:  RQ loss 0.008206992529015592 NLL 0.1449765764642507 Accuracy 0.9671431739279565 \n",
      "Epoch 9:  RQ loss 0.006345011813050889 NLL 0.1507218978962207 Accuracy 0.9693816489361702 \n"
     ]
    }
   ],
   "source": [
    "udiag = (T.triu(T.ones(10,10)) + 1e-10).log().to(device)\n",
    "\n",
    "def rq_ranking_loss(preds, labels):\n",
    "    # label pairs define the prior (bs/2, 10, 10)\n",
    "    logprior = T.zeros((labels.shape[0]//2, 10, 10), device=device)\n",
    "    logprior[labels[::2] >= labels[1::2]] = udiag\n",
    "    logprior[labels[::2] < labels[1::2]] = udiag.T\n",
    "    \n",
    "    logq = preds.log_softmax(1) # (bs, 10) normalized over q\n",
    "    logz = logq.log_softmax(0) # (bs, 10) normalized over batch\n",
    "    logz_pairs = logz[::2].unsqueeze(1) + logz[1::2].unsqueeze(2) # (bs/2, 10, 10)\n",
    "    \n",
    "    logr = (logz_pairs + logprior).view(-1, 10*10).log_softmax(1).view(-1,10,10) # (bs/2, 10, 10)\n",
    "    logr_marginal1 = logr.logsumexp(1)\n",
    "    logr_marginal2 = logr.logsumexp(2)\n",
    "    logtarget = T.stack([logr_marginal1,logr_marginal2],1).view(-1,10) # (bs, 10)\n",
    "    \n",
    "    cross_entropy = -( logq * logtarget.exp()).sum(1).mean()\n",
    "    target_entropy = -(logtarget * logtarget.exp()).sum(1).mean()\n",
    "    return cross_entropy, target_entropy\n",
    "\n",
    "nll_loss = T.nn.NLLLoss()\n",
    "\n",
    "conf = np.zeros((10,10))\n",
    "conf_log = []\n",
    "\n",
    "for epoch in range(10):\n",
    "    loss_log = []\n",
    "    acc_log = []\n",
    "    nll_log = []\n",
    "    \n",
    "    for it,batch in enumerate(loader_train):\n",
    "        x = model(batch[0].to(device))\n",
    "        y = batch[1].to(device)\n",
    "        \n",
    "        opt.zero_grad()\n",
    "        \n",
    "        cross_entropy, target_entropy = rq_ranking_loss(x, y)\n",
    "        nll = nll_loss(x.log_softmax(1),y) # for logging only    \n",
    "        loss = cross_entropy - target_entropy # KL(r||q)       \n",
    "        loss.backward()\n",
    "\n",
    "        opt.step()\n",
    "        \n",
    "        loss_log.append(loss.item())\n",
    "        nll_log.append(nll.item())\n",
    "        acc_log.append((x.argmax(1)==y).float().mean().item())\n",
    "        \n",
    "        for a,b in zip(x.argmax(1).cpu().numpy(), y.cpu().numpy()):\n",
    "            conf[b,a]+=1\n",
    "\n",
    "        if it%10==0:\n",
    "            conf_log.append(conf.copy())\n",
    "            conf *= 0\n",
    "             \n",
    "    print(f'Epoch {epoch}: ', end=' ')\n",
    "    print(f'RQ loss {sum(loss_log)/len(loss_log)}', end=' ')\n",
    "    print(f'NLL {sum(nll_log)/len(nll_log)}', end=' ')\n",
    "    print(f'Accuracy {sum(acc_log)/len(acc_log)}', end=' ')\n",
    "    print()\n",
    "       "
   ]
  },
  {
   "cell_type": "code",
   "execution_count": 31,
   "metadata": {},
   "outputs": [
    {
     "data": {
      "image/png": "[encoded data removed]",
      "text/plain": [
       "<Figure size 720x720 with 8 Axes>"
      ]
     },
     "metadata": {},
     "output_type": "display_data"
    }
   ],
   "source": [
    "pt.figure(figsize=(10,10))\n",
    "for i in range(1,9):\n",
    "    pt.subplot(1,8,i)\n",
    "    pt.xticks([]);pt.yticks([])\n",
    "    pt.title(f'step {10*2**(i-1)}')\n",
    "    pt.imshow(conf_log[2**(i-1)],cmap='Blues',vmin=0)\n",
    "pt.tight_layout()\n",
    "pt.show()"
   ]
  }
 ],
 "metadata": {
  "kernelspec": {
   "display_name": "Python 3",
   "language": "python",
   "name": "python3"
  },
  "language_info": {
   "codemirror_mode": {
    "name": "ipython",
    "version": 3
   },
   "file_extension": ".py",
   "mimetype": "text/x-python",
   "name": "python",
   "nbconvert_exporter": "python",
   "pygments_lexer": "ipython3",
   "version": "3.8.2"
  }
 },
 "nbformat": 4,
 "nbformat_minor": 2
}
