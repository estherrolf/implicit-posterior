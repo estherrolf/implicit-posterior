{
 "cells": [
  {
   "cell_type": "code",
   "execution_count": 1,
   "id": "8d6756b8",
   "metadata": {},
   "outputs": [],
   "source": [
    "import torch\n",
    "import sys\n",
    "sys.path.append('../../torchgeo')\n",
    "import torchgeo\n",
    "import pytorch_lightning as pl\n",
    "\n",
    "from importlib import reload\n",
    "\n",
    "from torchgeo.trainers import EnviroatlasDataModule, EnviroatlasSegmentationTask\n",
    "from torchmetrics import Accuracy, IoU, MetricCollection\n",
    "\n",
    "%load_ext autoreload\n",
    "%autoreload 2\n"
   ]
  },
  {
   "cell_type": "markdown",
   "id": "6cad8631",
   "metadata": {},
   "source": [
    "For the highres models we can use the torchgeo dataloaders to evaluate accuracy. The QR models in constrast need to read the whole image at once to compute the normalization factors from which we compute R."
   ]
  },
  {
   "cell_type": "code",
   "execution_count": 5,
   "id": "332b347e",
   "metadata": {},
   "outputs": [],
   "source": [
    "torchgeo_output_dir = '/home/esther/torchgeo/output'\n",
    "torchgeo_data_dir = '/home/esther/torchgeo_data'"
   ]
  },
  {
   "cell_type": "markdown",
   "id": "a69a29c6",
   "metadata": {},
   "source": [
    "# evaulate NAIP > HR model in each state"
   ]
  },
  {
   "cell_type": "code",
   "execution_count": 4,
   "id": "0edce89b",
   "metadata": {},
   "outputs": [
    {
     "name": "stderr",
     "output_type": "stream",
     "text": [
      "GPU available: True, used: True\n",
      "TPU available: False, using: 0 TPU cores\n",
      "IPU available: False, using: 0 IPUs\n",
      "LOCAL_RANK: 0 - CUDA_VISIBLE_DEVICES: [0]\n"
     ]
    },
    {
     "name": "stdout",
     "output_type": "stream",
     "text": [
      "200\n",
      "train sets are: ['pittsburgh_pa-2010_1m-test']\n",
      "val sets are: ['pittsburgh_pa-2010_1m-test']\n",
      "test sets are: ['pittsburgh_pa-2010_1m-test']\n"
     ]
    },
    {
     "data": {
      "application/vnd.jupyter.widget-view+json": {
       "model_id": "2c7e4a52363d44329c0d2d53e80d07d8",
       "version_major": 2,
       "version_minor": 0
      },
      "text/plain": [
       "Testing: 0it [00:00, ?it/s]"
      ]
     },
     "metadata": {},
     "output_type": "display_data"
    },
    {
     "name": "stderr",
     "output_type": "stream",
     "text": [
      "GPU available: True, used: True\n",
      "TPU available: False, using: 0 TPU cores\n",
      "IPU available: False, using: 0 IPUs\n",
      "LOCAL_RANK: 0 - CUDA_VISIBLE_DEVICES: [0]\n"
     ]
    },
    {
     "name": "stdout",
     "output_type": "stream",
     "text": [
      "--------------------------------------------------------------------------------\n",
      "DATALOADER:0 TEST RESULTS\n",
      "{'iou_0': 0.8937978148460388,\n",
      " 'iou_1': 0.8738946914672852,\n",
      " 'iou_2': 0.20835360884666443,\n",
      " 'iou_3': 0.860988974571228,\n",
      " 'iou_4': 0.6244174242019653,\n",
      " 'test_acc_q': 0.8929929733276367,\n",
      " 'test_iou_q': 0.6922904849052429,\n",
      " 'test_loss': 0.0}\n",
      "--------------------------------------------------------------------------------\n",
      "200\n",
      "train sets are: ['phoenix_az-2010_1m-test']\n",
      "val sets are: ['phoenix_az-2010_1m-test']\n",
      "test sets are: ['phoenix_az-2010_1m-test']\n"
     ]
    },
    {
     "data": {
      "application/vnd.jupyter.widget-view+json": {
       "model_id": "086de2f2e7d04369a72ca65ffb79958a",
       "version_major": 2,
       "version_minor": 0
      },
      "text/plain": [
       "Testing: 0it [00:00, ?it/s]"
      ]
     },
     "metadata": {},
     "output_type": "display_data"
    },
    {
     "name": "stderr",
     "output_type": "stream",
     "text": [
      "GPU available: True, used: True\n",
      "TPU available: False, using: 0 TPU cores\n",
      "IPU available: False, using: 0 IPUs\n",
      "LOCAL_RANK: 0 - CUDA_VISIBLE_DEVICES: [0]\n"
     ]
    },
    {
     "name": "stdout",
     "output_type": "stream",
     "text": [
      "--------------------------------------------------------------------------------\n",
      "DATALOADER:0 TEST RESULTS\n",
      "{'iou_0': 0.13662219047546387,\n",
      " 'iou_1': 0.07786842435598373,\n",
      " 'iou_2': 0.0005728736286982894,\n",
      " 'iou_3': 0.1508171409368515,\n",
      " 'iou_4': 0.020290516316890717,\n",
      " 'test_acc_q': 0.06620995700359344,\n",
      " 'test_iou_q': 0.07723423093557358,\n",
      " 'test_loss': 0.0}\n",
      "--------------------------------------------------------------------------------\n",
      "200\n",
      "train sets are: ['durham_nc-2012_1m-test']\n",
      "val sets are: ['durham_nc-2012_1m-test']\n",
      "test sets are: ['durham_nc-2012_1m-test']\n"
     ]
    },
    {
     "data": {
      "application/vnd.jupyter.widget-view+json": {
       "model_id": "d3198343abab443294af49bb510821c1",
       "version_major": 2,
       "version_minor": 0
      },
      "text/plain": [
       "Testing: 0it [00:00, ?it/s]"
      ]
     },
     "metadata": {},
     "output_type": "display_data"
    },
    {
     "name": "stderr",
     "output_type": "stream",
     "text": [
      "GPU available: True, used: True\n",
      "TPU available: False, using: 0 TPU cores\n",
      "IPU available: False, using: 0 IPUs\n",
      "LOCAL_RANK: 0 - CUDA_VISIBLE_DEVICES: [0]\n"
     ]
    },
    {
     "name": "stdout",
     "output_type": "stream",
     "text": [
      "--------------------------------------------------------------------------------\n",
      "DATALOADER:0 TEST RESULTS\n",
      "{'iou_0': 0.06626585870981216,\n",
      " 'iou_1': 0.4306070804595947,\n",
      " 'iou_2': 0.1301473081111908,\n",
      " 'iou_3': 0.7963221073150635,\n",
      " 'iou_4': 0.31719645857810974,\n",
      " 'test_acc_q': 0.7274109721183777,\n",
      " 'test_iou_q': 0.34810778498649597,\n",
      " 'test_loss': 0.0}\n",
      "--------------------------------------------------------------------------------\n",
      "200\n",
      "train sets are: ['austin_tx-2012_1m-test']\n",
      "val sets are: ['austin_tx-2012_1m-test']\n",
      "test sets are: ['austin_tx-2012_1m-test']\n"
     ]
    },
    {
     "data": {
      "application/vnd.jupyter.widget-view+json": {
       "model_id": "e148646bc3284838ab93287d0dfe55e1",
       "version_major": 2,
       "version_minor": 0
      },
      "text/plain": [
       "Testing: 0it [00:00, ?it/s]"
      ]
     },
     "metadata": {},
     "output_type": "display_data"
    },
    {
     "name": "stdout",
     "output_type": "stream",
     "text": [
      "--------------------------------------------------------------------------------\n",
      "DATALOADER:0 TEST RESULTS\n",
      "{'iou_0': 0.15695229172706604,\n",
      " 'iou_1': 0.46736863255500793,\n",
      " 'iou_2': 0.02773326076567173,\n",
      " 'iou_3': 0.7739262580871582,\n",
      " 'iou_4': 0.40982910990715027,\n",
      " 'test_acc_q': 0.7176884412765503,\n",
      " 'test_iou_q': 0.36716189980506897,\n",
      " 'test_loss': 0.0}\n",
      "--------------------------------------------------------------------------------\n"
     ]
    }
   ],
   "source": [
    "ckpt_dir = f\"{torchgeo_output_dir}/hp_gridsearch_pittsburgh/pittsburgh_pa-2010_1m_fcn_0.001_nll/last.ckpt\"\n",
    "model = EnviroatlasSegmentationTask.load_from_checkpoint(ckpt_dir)\n",
    "model.freeze()\n",
    "model.eval();\n",
    "\n",
    "eval_states = ['pittsburgh_pa-2010_1m','phoenix_az-2010_1m','durham_nc-2012_1m','austin_tx-2012_1m']\n",
    "# 'pittsburgh_pa-2010'\n",
    "results_by_state_last_epoch = {}\n",
    "for eval_state in eval_states:\n",
    "    dm = EnviroatlasDataModule(\n",
    "        f\"{torchgeo_data_dir}/enviroatlas\",\n",
    "        states_str=eval_state,\n",
    "        classes_keep=[1,2,3,4,6],\n",
    "        batch_size=32,\n",
    "        patch_size=128,\n",
    "        num_workers=6,\n",
    "        train_set='test', \n",
    "        val_set = 'test', \n",
    "        test_set = 'test'\n",
    "    )\n",
    "\n",
    "    trainer = pl.Trainer(gpus=[0])\n",
    "    results_by_state_last_epoch[eval_state] = trainer.test(model=model, datamodule=dm)"
   ]
  },
  {
   "cell_type": "markdown",
   "id": "b6e352b6",
   "metadata": {},
   "source": [
    "# evaulate NAIP+Prior > HR model in each state"
   ]
  },
  {
   "cell_type": "code",
   "execution_count": 7,
   "id": "494e8730",
   "metadata": {},
   "outputs": [
    {
     "name": "stderr",
     "output_type": "stream",
     "text": [
      "GPU available: True, used: True\n",
      "TPU available: False, using: 0 TPU cores\n",
      "IPU available: False, using: 0 IPUs\n",
      "LOCAL_RANK: 0 - CUDA_VISIBLE_DEVICES: [0]\n"
     ]
    },
    {
     "name": "stdout",
     "output_type": "stream",
     "text": [
      "200\n",
      "train sets are: ['pittsburgh_pa-2010_1m-test']\n",
      "val sets are: ['pittsburgh_pa-2010_1m-test']\n",
      "test sets are: ['pittsburgh_pa-2010_1m-test']\n"
     ]
    },
    {
     "data": {
      "application/vnd.jupyter.widget-view+json": {
       "model_id": "43f4750d665948ee8542ad4a4a10ecab",
       "version_major": 2,
       "version_minor": 0
      },
      "text/plain": [
       "Testing: 0it [00:00, ?it/s]"
      ]
     },
     "metadata": {},
     "output_type": "display_data"
    },
    {
     "name": "stderr",
     "output_type": "stream",
     "text": [
      "GPU available: True, used: True\n",
      "TPU available: False, using: 0 TPU cores\n",
      "IPU available: False, using: 0 IPUs\n",
      "LOCAL_RANK: 0 - CUDA_VISIBLE_DEVICES: [0]\n"
     ]
    },
    {
     "name": "stdout",
     "output_type": "stream",
     "text": [
      "--------------------------------------------------------------------------------\n",
      "DATALOADER:0 TEST RESULTS\n",
      "{'iou_0': 0.9640726447105408,\n",
      " 'iou_1': 0.8818714022636414,\n",
      " 'iou_2': 0.20372101664543152,\n",
      " 'iou_3': 0.8598912954330444,\n",
      " 'iou_4': 0.6240530610084534,\n",
      " 'test_acc_q': 0.8943305015563965,\n",
      " 'test_iou_q': 0.7067219018936157,\n",
      " 'test_loss': 0.0}\n",
      "--------------------------------------------------------------------------------\n",
      "200\n",
      "train sets are: ['phoenix_az-2010_1m-test']\n",
      "val sets are: ['phoenix_az-2010_1m-test']\n",
      "test sets are: ['phoenix_az-2010_1m-test']\n"
     ]
    },
    {
     "data": {
      "application/vnd.jupyter.widget-view+json": {
       "model_id": "981e28a6432949f9b8ccbc12ed39231d",
       "version_major": 2,
       "version_minor": 0
      },
      "text/plain": [
       "Testing: 0it [00:00, ?it/s]"
      ]
     },
     "metadata": {},
     "output_type": "display_data"
    },
    {
     "name": "stderr",
     "output_type": "stream",
     "text": [
      "GPU available: True, used: True\n",
      "TPU available: False, using: 0 TPU cores\n",
      "IPU available: False, using: 0 IPUs\n",
      "LOCAL_RANK: 0 - CUDA_VISIBLE_DEVICES: [0]\n"
     ]
    },
    {
     "name": "stdout",
     "output_type": "stream",
     "text": [
      "--------------------------------------------------------------------------------\n",
      "DATALOADER:0 TEST RESULTS\n",
      "{'iou_0': 0.3974132239818573,\n",
      " 'iou_1': 0.04513853043317795,\n",
      " 'iou_2': 0.8039048910140991,\n",
      " 'iou_3': 0.1699606478214264,\n",
      " 'iou_4': 0.11378845572471619,\n",
      " 'test_acc_q': 0.6593471765518188,\n",
      " 'test_iou_q': 0.3060411512851715,\n",
      " 'test_loss': 0.0}\n",
      "--------------------------------------------------------------------------------\n",
      "200\n",
      "train sets are: ['durham_nc-2012_1m-test']\n",
      "val sets are: ['durham_nc-2012_1m-test']\n",
      "test sets are: ['durham_nc-2012_1m-test']\n"
     ]
    },
    {
     "data": {
      "application/vnd.jupyter.widget-view+json": {
       "model_id": "acc45878678a4e4c9c0b058f76d3b3db",
       "version_major": 2,
       "version_minor": 0
      },
      "text/plain": [
       "Testing: 0it [00:00, ?it/s]"
      ]
     },
     "metadata": {},
     "output_type": "display_data"
    },
    {
     "name": "stderr",
     "output_type": "stream",
     "text": [
      "GPU available: True, used: True\n",
      "TPU available: False, using: 0 TPU cores\n",
      "IPU available: False, using: 0 IPUs\n",
      "LOCAL_RANK: 0 - CUDA_VISIBLE_DEVICES: [0]\n"
     ]
    },
    {
     "name": "stdout",
     "output_type": "stream",
     "text": [
      "--------------------------------------------------------------------------------\n",
      "DATALOADER:0 TEST RESULTS\n",
      "{'iou_0': 0.6333632469177246,\n",
      " 'iou_1': 0.6201594471931458,\n",
      " 'iou_2': 0.06957065314054489,\n",
      " 'iou_3': 0.7966300845146179,\n",
      " 'iou_4': 0.311752051115036,\n",
      " 'test_acc_q': 0.7878894805908203,\n",
      " 'test_iou_q': 0.48629507422447205,\n",
      " 'test_loss': 0.0}\n",
      "--------------------------------------------------------------------------------\n",
      "200\n",
      "train sets are: ['austin_tx-2012_1m-test']\n",
      "val sets are: ['austin_tx-2012_1m-test']\n",
      "test sets are: ['austin_tx-2012_1m-test']\n"
     ]
    },
    {
     "data": {
      "application/vnd.jupyter.widget-view+json": {
       "model_id": "9228bc85f2b548939dbd813485fb6010",
       "version_major": 2,
       "version_minor": 0
      },
      "text/plain": [
       "Testing: 0it [00:00, ?it/s]"
      ]
     },
     "metadata": {},
     "output_type": "display_data"
    },
    {
     "name": "stdout",
     "output_type": "stream",
     "text": [
      "--------------------------------------------------------------------------------\n",
      "DATALOADER:0 TEST RESULTS\n",
      "{'iou_0': 0.6840725541114807,\n",
      " 'iou_1': 0.6395398378372192,\n",
      " 'iou_2': 0.06644535064697266,\n",
      " 'iou_3': 0.7669135928153992,\n",
      " 'iou_4': 0.37476789951324463,\n",
      " 'test_acc_q': 0.7717442512512207,\n",
      " 'test_iou_q': 0.5063478350639343,\n",
      " 'test_loss': 0.0}\n",
      "--------------------------------------------------------------------------------\n"
     ]
    }
   ],
   "source": [
    "ckpt_dir = f\"{torchgeo_output_dir}/hp_gridsearch_pittsburgh_with_prior_as_input/pittsburgh_pa-2010_1m_fcn_0.001_nll/last.ckpt\"\n",
    "model = EnviroatlasSegmentationTask.load_from_checkpoint(ckpt_dir)\n",
    "model.freeze()\n",
    "model.eval();\n",
    "\n",
    "eval_states = ['pittsburgh_pa-2010_1m','phoenix_az-2010_1m','durham_nc-2012_1m','austin_tx-2012_1m']\n",
    "# 'pittsburgh_pa-2010'\n",
    "results_by_state_last_epoch = {}\n",
    "for eval_state in eval_states:\n",
    "    dm = EnviroatlasDataModule(\n",
    "        f\"{torchgeo_data_dir}/enviroatlas\",\n",
    "        states_str=eval_state,\n",
    "        classes_keep=[1,2,3,4,6],\n",
    "        batch_size=32,\n",
    "        patch_size=128,\n",
    "        num_workers=6,\n",
    "        train_set='test', \n",
    "        val_set = 'test', \n",
    "        test_set = 'test',\n",
    "        include_prior_as_datalayer=True,\n",
    "    )\n",
    "\n",
    "    trainer = pl.Trainer(gpus=[0])\n",
    "    results_by_state_last_epoch[eval_state] = trainer.test(model=model, datamodule=dm)"
   ]
  },
  {
   "cell_type": "code",
   "execution_count": null,
   "id": "01e0c934",
   "metadata": {},
   "outputs": [],
   "source": []
  }
 ],
 "metadata": {
  "kernelspec": {
   "display_name": "torchgeo",
   "language": "python",
   "name": "conda-env-torchgeo-py"
  },
  "language_info": {
   "codemirror_mode": {
    "name": "ipython",
    "version": 3
   },
   "file_extension": ".py",
   "mimetype": "text/x-python",
   "name": "python",
   "nbconvert_exporter": "python",
   "pygments_lexer": "ipython3",
   "version": "3.9.7"
  }
 },
 "nbformat": 4,
 "nbformat_minor": 5
}
